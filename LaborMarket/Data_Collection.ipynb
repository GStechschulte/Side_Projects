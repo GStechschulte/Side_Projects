{
 "cells": [
  {
   "cell_type": "code",
   "execution_count": 66,
   "metadata": {},
   "outputs": [],
   "source": [
    "import requests\n",
    "from bs4 import BeautifulSoup as bs\n",
    "import pandas as pd\n",
    "from fredapi import Fred"
   ]
  },
  {
   "cell_type": "code",
   "execution_count": 3,
   "metadata": {},
   "outputs": [],
   "source": [
    "# Category codes for \"Current Employment Statistics\"\n",
    "categories = []\n",
    "for cats in range(32305, 32326):\n",
    "    categories.append(cats)"
   ]
  },
  {
   "cell_type": "code",
   "execution_count": 8,
   "metadata": {},
   "outputs": [],
   "source": [
    "header = {'User-Agent' : 'Mozilla/5.0 (X11; Linux x86_64)'\n",
    "                                      'AppleWebKit/537.36 (KHTML, like Gecko)'\n",
    "                                      'Chrome/89.0.4389.114 Safari/537.36'}"
   ]
  },
  {
   "cell_type": "code",
   "execution_count": 50,
   "metadata": {},
   "outputs": [
    {
     "data": {
      "text/plain": [
       "21"
      ]
     },
     "execution_count": 50,
     "metadata": {},
     "output_type": "execute_result"
    }
   ],
   "source": [
    "# Occupation Major Categories - URLS\n",
    "urls = ['https://fred.stlouisfed.org/categories/{}'.format(cats) for cats in range(32305, 32326)]"
   ]
  },
  {
   "cell_type": "code",
   "execution_count": 59,
   "metadata": {},
   "outputs": [],
   "source": [
    "codes = {}\n",
    "\n",
    "for url in urls:\n",
    "    html = requests.get(url, headers = header)\n",
    "    if html.status_code == 200:\n",
    "        soup = bs(html.content, 'lxml')\n",
    "        for tag in soup.find_all('a', class_='series-title pager-series-title-gtm', href=True):\n",
    "            codes.update({tag.text: tag['href']})\n",
    "    else:\n",
    "        print('Request Failed')"
   ]
  },
  {
   "cell_type": "code",
   "execution_count": 67,
   "metadata": {},
   "outputs": [],
   "source": [
    "fred = Fred(api_key = 'fb26df2e7851dcdd5267db1cd0abb74f')"
   ]
  },
  {
   "cell_type": "code",
   "execution_count": 68,
   "metadata": {},
   "outputs": [],
   "source": [
    "vals = {}\n",
    "for key, value in codes.items():\n",
    "    vals[key] = fred.get_series('{}'.format(value.replace('/series/', '')))"
   ]
  },
  {
   "cell_type": "code",
   "execution_count": 70,
   "metadata": {},
   "outputs": [],
   "source": [
    "labor = pd.DataFrame.from_dict(vals)"
   ]
  },
  {
   "cell_type": "code",
   "execution_count": 100,
   "metadata": {},
   "outputs": [],
   "source": [
    "final = labor.loc[:, labor.columns.str.startswith('All Employees')]"
   ]
  },
  {
   "cell_type": "code",
   "execution_count": 103,
   "metadata": {},
   "outputs": [],
   "source": [
    "#final.to_csv('/Users/gabestechschulte/Downloads/labormarket.csv')"
   ]
  }
 ],
 "metadata": {
  "kernelspec": {
   "display_name": "Python 3",
   "language": "python",
   "name": "python3"
  },
  "language_info": {
   "codemirror_mode": {
    "name": "ipython",
    "version": 3
   },
   "file_extension": ".py",
   "mimetype": "text/x-python",
   "name": "python",
   "nbconvert_exporter": "python",
   "pygments_lexer": "ipython3",
   "version": "3.7.4"
  }
 },
 "nbformat": 4,
 "nbformat_minor": 4
}
