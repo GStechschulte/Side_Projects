{
 "cells": [
  {
   "cell_type": "code",
   "execution_count": 1,
   "source": [
    "import numpy as np\n",
    "import pandas as pd\n",
    "import seaborn as sns\n",
    "import matplotlib.pyplot as plt\n",
    "import plotly.express as px\n",
    "from get_data import chicago_ride_hail"
   ],
   "outputs": [],
   "metadata": {}
  },
  {
   "cell_type": "markdown",
   "source": [
    "## Data Collection\n",
    "\n",
    "Fetch 1,000 observations for each day in a week, month, etc. and concatenate together?"
   ],
   "metadata": {}
  },
  {
   "cell_type": "code",
   "execution_count": 125,
   "source": [
    "#url = 'https://data.cityofchicago.org/resource/m6dm-c72p.json?trip_start_timestamp=2018-11-01&$limit=100000&$order=trip_id'\n",
    "#day = pd.read_json(url)"
   ],
   "outputs": [],
   "metadata": {}
  },
  {
   "cell_type": "code",
   "execution_count": null,
   "source": [
    "#url2 = 'https://data.cityofchicagoz.org/resource/m6dm-c72p.json?trip_start_timestamp=2018-11-02&$limit=100000&$order=trip_id'\n",
    "#day2 = pd.read_json(url2)"
   ],
   "outputs": [],
   "metadata": {}
  },
  {
   "cell_type": "code",
   "execution_count": 119,
   "source": [
    "#url = 'https://data.cityofchicago.org/resource/m6dm-c72p.json?$limit=1000&$offset=0&$order=trip_start_timestamp'\n",
    "#offset = pd.read_json(url)"
   ],
   "outputs": [],
   "metadata": {}
  },
  {
   "cell_type": "code",
   "execution_count": 134,
   "source": [
    "#url = 'https://data.cityofchicago.org/resource/m6dm-c72p.json?$limit=2000000'\n",
    "#raw = pd.read_json(url)\n",
    "#raw.to_csv('/Volumes/GabeTB/Data/chicago/chicago-ride-hailing-2M.csv')"
   ],
   "outputs": [],
   "metadata": {}
  },
  {
   "cell_type": "code",
   "execution_count": 2,
   "source": [
    "rideBig = pd.read_csv('/Volumes/GabeTB/Data/chicago/chicago-ride-hailing-2M.csv')"
   ],
   "outputs": [],
   "metadata": {}
  },
  {
   "cell_type": "code",
   "execution_count": 3,
   "source": [
    "rideBig.trip_start_timestamp = pd.to_datetime(rideBig.trip_start_timestamp, utc=True)"
   ],
   "outputs": [],
   "metadata": {}
  },
  {
   "cell_type": "code",
   "execution_count": 4,
   "source": [
    "rideBig.trip_start_timestamp.unique"
   ],
   "outputs": [
    {
     "output_type": "execute_result",
     "data": {
      "text/plain": [
       "<bound method Series.unique of 0         2021-07-31 23:45:00+00:00\n",
       "1         2021-07-31 23:45:00+00:00\n",
       "2         2021-07-31 23:45:00+00:00\n",
       "3         2021-07-31 23:45:00+00:00\n",
       "4         2021-07-31 23:45:00+00:00\n",
       "                     ...           \n",
       "1999995   2021-07-18 00:30:00+00:00\n",
       "1999996   2021-07-18 00:30:00+00:00\n",
       "1999997   2021-07-18 00:30:00+00:00\n",
       "1999998   2021-07-18 00:30:00+00:00\n",
       "1999999   2021-07-18 00:30:00+00:00\n",
       "Name: trip_start_timestamp, Length: 2000000, dtype: datetime64[ns, UTC]>"
      ]
     },
     "metadata": {},
     "execution_count": 4
    }
   ],
   "metadata": {}
  },
  {
   "cell_type": "code",
   "execution_count": 5,
   "source": [
    "rideBig.columns"
   ],
   "outputs": [
    {
     "output_type": "execute_result",
     "data": {
      "text/plain": [
       "Index(['Unnamed: 0', 'trip_id', 'trip_start_timestamp', 'trip_end_timestamp',\n",
       "       'trip_seconds', 'trip_miles', 'pickup_census_tract',\n",
       "       'dropoff_census_tract', 'pickup_community_area',\n",
       "       'dropoff_community_area', 'fare', 'tip', 'additional_charges',\n",
       "       'trip_total', 'shared_trip_authorized', 'trips_pooled',\n",
       "       'pickup_centroid_latitude', 'pickup_centroid_longitude',\n",
       "       'pickup_centroid_location', 'dropoff_centroid_latitude',\n",
       "       'dropoff_centroid_longitude', 'dropoff_centroid_location'],\n",
       "      dtype='object')"
      ]
     },
     "metadata": {},
     "execution_count": 5
    }
   ],
   "metadata": {}
  },
  {
   "cell_type": "code",
   "execution_count": 9,
   "source": [
    "plt.figure(figsize=(16, 6))\n",
    "plt.scatter(rideBig.trip_miles, rideBig.fare)\n",
    "plt.show()"
   ],
   "outputs": [
    {
     "output_type": "display_data",
     "data": {
      "image/png": "[encoded data removed]",
      "text/plain": [
       "<Figure size 1152x432 with 1 Axes>"
      ]
     },
     "metadata": {
      "needs_background": "light"
     }
    }
   ],
   "metadata": {}
  },
  {
   "cell_type": "code",
   "execution_count": null,
   "source": [],
   "outputs": [],
   "metadata": {}
  }
 ],
 "metadata": {
  "orig_nbformat": 4,
  "language_info": {
   "name": "python",
   "version": "3.7.4",
   "mimetype": "text/x-python",
   "codemirror_mode": {
    "name": "ipython",
    "version": 3
   },
   "pygments_lexer": "ipython3",
   "nbconvert_exporter": "python",
   "file_extension": ".py"
  },
  "kernelspec": {
   "name": "python3",
   "display_name": "Python 3.7.4 64-bit ('base': conda)"
  },
  "interpreter": {
   "hash": "6c344d601c3b2b7bc82ec79b9273ba7e1890aa66188b2ee9de85e4fb69c667e8"
  }
 },
 "nbformat": 4,
 "nbformat_minor": 2
}