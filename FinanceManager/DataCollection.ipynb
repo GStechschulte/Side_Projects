{
 "cells": [
  {
   "cell_type": "code",
   "execution_count": 275,
   "metadata": {},
   "outputs": [],
   "source": [
    "import pandas as pd\n",
    "from td.client import TDClient\n",
    "import requests\n",
    "import json\n",
    "from datetime import date\n",
    "import time\n",
    "import urllib\n",
    "import requests\n",
    "from splinter import Browser\n",
    "from config import client_id, username, password, redirect_url"
   ]
  },
  {
   "cell_type": "code",
   "execution_count": 225,
   "metadata": {},
   "outputs": [],
   "source": [
    "# Define the path to your browser\n",
    "executable_path = {'executable_path': '/usr/local/bin/chromedriver'}"
   ]
  },
  {
   "cell_type": "code",
   "execution_count": 226,
   "metadata": {},
   "outputs": [],
   "source": [
    "browser = Browser('chrome', **executable_path, headless=False)"
   ]
  },
  {
   "cell_type": "code",
   "execution_count": 227,
   "metadata": {},
   "outputs": [],
   "source": [
    "method = 'GET'\n",
    "url = 'https://auth.tdameritrade.com/auth?'\n",
    "client_code = client_id + '@AMER.OAUTHAP'"
   ]
  },
  {
   "cell_type": "code",
   "execution_count": 228,
   "metadata": {},
   "outputs": [],
   "source": [
    "# Define Payload, MAKE SURE TO HAVE THE CORRECT REDIRECT URI\n",
    "payload_auth = {'response_type': 'code', 'redirect_uri': 'http://127.0.0.1', \n",
    "                'client_id': client_code}\n",
    "\n",
    "built_url = requests.Request(method, url, params=payload_auth).prepare()"
   ]
  },
  {
   "cell_type": "code",
   "execution_count": 229,
   "metadata": {},
   "outputs": [],
   "source": [
    "# Go to the URL\n",
    "my_url = built_url.url\n",
    "browser.visit(my_url)"
   ]
  },
  {
   "cell_type": "code",
   "execution_count": 230,
   "metadata": {},
   "outputs": [],
   "source": [
    "# Fill Out the Form\n",
    "payload_fill = {'username': username, 'password': password}\n",
    "browser.find_by_id('username0').first.fill(payload_fill['username'])\n",
    "browser.find_by_id('password1').first.fill(payload_fill['password'])\n",
    "browser.find_by_id('accept').first.click()\n",
    "time.sleep(1)"
   ]
  },
  {
   "cell_type": "code",
   "execution_count": 231,
   "metadata": {},
   "outputs": [],
   "source": [
    "# Get the Text Message Box\n",
    "browser.find_by_text('Can\\'t get the text message?').first.click()\n",
    "\n",
    "# Get the Answer Box\n",
    "browser.find_by_value(\"Answer a security question\").first.click()"
   ]
  },
  {
   "cell_type": "code",
   "execution_count": 232,
   "metadata": {},
   "outputs": [],
   "source": [
    "# Answer the Security Questions.\n",
    "if browser.is_text_present('What was your high school mascot?'):\n",
    "    browser.find_by_id('secretquestion0').first.fill('Bulldog')\n",
    "\n",
    "elif browser.is_text_present('In what city was your high school? (Enter full name of city only.)'):\n",
    "    browser.find_by_id('secretquestion0').first.fill('Columbus Grove')\n",
    "\n",
    "elif browser.is_text_present('What was the name of the town your grandmother lived in? (Enter full name of town only.)'):\n",
    "    browser.find_by_id('secretquestion0').first.fill('Columbus Grove')\n",
    "\n",
    "elif browser.is_text_present('In what city were you born? (Enter full name of city only.)'):\n",
    "    browser.find_by_id('secretquestion0').first.fill('Lima')"
   ]
  },
  {
   "cell_type": "code",
   "execution_count": 233,
   "metadata": {},
   "outputs": [],
   "source": [
    "# Submit results\n",
    "browser.find_by_id('accept').first.click()"
   ]
  },
  {
   "cell_type": "code",
   "execution_count": 234,
   "metadata": {},
   "outputs": [],
   "source": [
    "# Trust this device\n",
    "browser.find_by_xpath('/html/body/form/main/fieldset/div/div[1]/label').first.click()\n",
    "browser.find_by_id('accept').first.click()"
   ]
  },
  {
   "cell_type": "code",
   "execution_count": 235,
   "metadata": {},
   "outputs": [],
   "source": [
    "# Sleep and click Accept Terms.\n",
    "time.sleep(5)\n",
    "browser.find_by_id('accept').first.click()\n",
    "time.sleep(5)"
   ]
  },
  {
   "cell_type": "code",
   "execution_count": 236,
   "metadata": {},
   "outputs": [],
   "source": [
    "new_url = browser.url\n",
    "parse_url = urllib.parse.unquote(new_url.split('code=')[1])\n",
    "browser.quit()"
   ]
  },
  {
   "cell_type": "code",
   "execution_count": 237,
   "metadata": {},
   "outputs": [],
   "source": [
    "# THE AUTHENTICATION ENDPOINT\n",
    "\n",
    "# define the endpoint\n",
    "url = r\"https://api.tdameritrade.com/v1/oauth2/token\"\n",
    "\n",
    "# define the headers\n",
    "headers = {\"Content-Type\":\"application/x-www-form-urlencoded\"}\n",
    "\n",
    "# define the payload\n",
    "payload = {'grant_type': 'authorization_code', \n",
    "           'access_type': 'offline', \n",
    "           'code': parse_url, \n",
    "           'client_id': client_id, \n",
    "           'redirect_uri': 'http://127.0.0.1'}\n",
    "\n",
    "# post the data to get the token\n",
    "authReply = requests.post(r'https://api.tdameritrade.com/v1/oauth2/token', headers = headers, data = payload)\n",
    "\n",
    "# convert it to a dictionary\n",
    "decoded_content = authReply.json()                       "
   ]
  },
  {
   "cell_type": "code",
   "execution_count": 238,
   "metadata": {},
   "outputs": [],
   "source": [
    "# grab the access_token\n",
    "access_token = decoded_content['access_token']\n",
    "headers = {'fields': 'fields=positions',\n",
    "           'Authorization': \"Bearer {}\".format(access_token)}"
   ]
  },
  {
   "cell_type": "code",
   "execution_count": 239,
   "metadata": {},
   "outputs": [],
   "source": [
    "# ACCOUNT ENDPOINT\n",
    "\n",
    "# define an endpoint with a stock of your choice, MUST BE UPPER\n",
    "endpoint = r\"https://api.tdameritrade.com/v1/accounts/{}\".format('497083264')\n",
    "\n",
    "# define the payload\n",
    "#payload = {'apikey': api_key}\n",
    "\n",
    "# make a request\n",
    "content = requests.get(url = endpoint, headers = headers)\n",
    "\n",
    "# convert it dictionary object\n",
    "data = content.json()"
   ]
  },
  {
   "cell_type": "code",
   "execution_count": 260,
   "metadata": {},
   "outputs": [],
   "source": [
    "cashAvail = data['securitiesAccount']['initialBalances']['cashAvailableForTrading']"
   ]
  },
  {
   "cell_type": "code",
   "execution_count": 261,
   "metadata": {},
   "outputs": [],
   "source": [
    "acctValue = data['securitiesAccount']['initialBalances']['accountValue']"
   ]
  },
  {
   "cell_type": "code",
   "execution_count": 262,
   "metadata": {},
   "outputs": [],
   "source": [
    "assetValue = data['securitiesAccount']['initialBalances']['longStockValue']"
   ]
  },
  {
   "cell_type": "code",
   "execution_count": 284,
   "metadata": {},
   "outputs": [],
   "source": [
    "tdValues = {'Date': date.today(),\n",
    "            'TD_Cash': cashAvail,\n",
    "            'TD_AccountValue': acctValue,\n",
    "            'TD_Asset Value': assetValue}\n",
    "\n",
    "tdValues = pd.DataFrame.from_dict(tdValues, orient = 'index').T\n",
    "tdValues.set_index('Date', inplace = True)"
   ]
  },
  {
   "cell_type": "code",
   "execution_count": 285,
   "metadata": {},
   "outputs": [
    {
     "data": {
      "text/html": [
       "<div>\n",
       "<style scoped>\n",
       "    .dataframe tbody tr th:only-of-type {\n",
       "        vertical-align: middle;\n",
       "    }\n",
       "\n",
       "    .dataframe tbody tr th {\n",
       "        vertical-align: top;\n",
       "    }\n",
       "\n",
       "    .dataframe thead th {\n",
       "        text-align: right;\n",
       "    }\n",
       "</style>\n",
       "<table border=\"1\" class=\"dataframe\">\n",
       "  <thead>\n",
       "    <tr style=\"text-align: right;\">\n",
       "      <th></th>\n",
       "      <th>TD_Cash</th>\n",
       "      <th>TD_AccountValue</th>\n",
       "      <th>TD_Asset Value</th>\n",
       "    </tr>\n",
       "    <tr>\n",
       "      <th>Date</th>\n",
       "      <th></th>\n",
       "      <th></th>\n",
       "      <th></th>\n",
       "    </tr>\n",
       "  </thead>\n",
       "  <tbody>\n",
       "    <tr>\n",
       "      <th>2021-06-28</th>\n",
       "      <td>588.1</td>\n",
       "      <td>3850.14</td>\n",
       "      <td>3262.65</td>\n",
       "    </tr>\n",
       "  </tbody>\n",
       "</table>\n",
       "</div>"
      ],
      "text/plain": [
       "           TD_Cash TD_AccountValue TD_Asset Value\n",
       "Date                                             \n",
       "2021-06-28   588.1         3850.14        3262.65"
      ]
     },
     "execution_count": 285,
     "metadata": {},
     "output_type": "execute_result"
    }
   ],
   "source": [
    "tdValues"
   ]
  },
  {
   "cell_type": "code",
   "execution_count": null,
   "metadata": {},
   "outputs": [],
   "source": []
  }
 ],
 "metadata": {
  "kernelspec": {
   "display_name": "Python 3",
   "language": "python",
   "name": "python3"
  },
  "language_info": {
   "codemirror_mode": {
    "name": "ipython",
    "version": 3
   },
   "file_extension": ".py",
   "mimetype": "text/x-python",
   "name": "python",
   "nbconvert_exporter": "python",
   "pygments_lexer": "ipython3",
   "version": "3.7.4"
  }
 },
 "nbformat": 4,
 "nbformat_minor": 4
}
