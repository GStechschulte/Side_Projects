{
 "cells": [
  {
   "cell_type": "code",
   "execution_count": 1,
   "metadata": {},
   "outputs": [],
   "source": [
    "import pandas as pd\n",
    "from td.client import TDClient\n",
    "import requests\n",
    "import json\n",
    "from datetime import date\n",
    "import time\n",
    "import urllib\n",
    "import requests\n",
    "from splinter import Browser\n",
    "from config import client_id, username, password, redirect_url\n",
    "from config import question1, answer1, question2, answer2, question3, answer3, question4, answer4"
   ]
  },
  {
   "cell_type": "code",
   "execution_count": 2,
   "metadata": {},
   "outputs": [],
   "source": [
    "# Define the path to your browser\n",
    "executable_path = {'executable_path': '/usr/local/bin/chromedriver'}"
   ]
  },
  {
   "cell_type": "code",
   "execution_count": 3,
   "metadata": {},
   "outputs": [],
   "source": [
    "browser = Browser('chrome', **executable_path, headless=False)"
   ]
  },
  {
   "cell_type": "code",
   "execution_count": 4,
   "metadata": {},
   "outputs": [],
   "source": [
    "method = 'GET'\n",
    "url = 'https://auth.tdameritrade.com/auth?'\n",
    "client_code = client_id + '@AMER.OAUTHAP'"
   ]
  },
  {
   "cell_type": "code",
   "execution_count": 5,
   "metadata": {},
   "outputs": [],
   "source": [
    "# Define Payload, MAKE SURE TO HAVE THE CORRECT REDIRECT URI\n",
    "payload_auth = {'response_type': 'code', 'redirect_uri': 'http://127.0.0.1', \n",
    "                'client_id': client_code}\n",
    "\n",
    "built_url = requests.Request(method, url, params=payload_auth).prepare()"
   ]
  },
  {
   "cell_type": "code",
   "execution_count": 6,
   "metadata": {},
   "outputs": [],
   "source": [
    "# Go to the URL\n",
    "my_url = built_url.url\n",
    "browser.visit(my_url)"
   ]
  },
  {
   "cell_type": "code",
   "execution_count": 7,
   "metadata": {},
   "outputs": [],
   "source": [
    "# Fill Out the Form\n",
    "payload_fill = {'username': username, 'password': password}\n",
    "browser.find_by_id('username0').first.fill(payload_fill['username'])\n",
    "browser.find_by_id('password1').first.fill(payload_fill['password'])\n",
    "browser.find_by_id('accept').first.click()\n",
    "time.sleep(1)"
   ]
  },
  {
   "cell_type": "code",
   "execution_count": 8,
   "metadata": {},
   "outputs": [],
   "source": [
    "# Get the Text Message Box\n",
    "browser.find_by_text('Can\\'t get the text message?').first.click()\n",
    "\n",
    "# Get the Answer Box\n",
    "browser.find_by_value(\"Answer a security question\").first.click()"
   ]
  },
  {
   "cell_type": "code",
   "execution_count": 9,
   "metadata": {},
   "outputs": [],
   "source": [
    "# Answer the Security Questions.\n",
    "if browser.is_text_present(question1):\n",
    "    browser.find_by_id('secretquestion0').first.fill(answer1)\n",
    "\n",
    "elif browser.is_text_present(question2):\n",
    "    browser.find_by_id('secretquestion0').first.fill(answer2)\n",
    "\n",
    "elif browser.is_text_present(question3):\n",
    "    browser.find_by_id('secretquestion0').first.fill(answer3)\n",
    "\n",
    "elif browser.is_text_present(question4):\n",
    "    browser.find_by_id('secretquestion0').first.fill(answer4)"
   ]
  },
  {
   "cell_type": "code",
   "execution_count": 10,
   "metadata": {},
   "outputs": [],
   "source": [
    "# Submit results\n",
    "browser.find_by_id('accept').first.click()"
   ]
  },
  {
   "cell_type": "code",
   "execution_count": 11,
   "metadata": {},
   "outputs": [],
   "source": [
    "# Trust this device\n",
    "browser.find_by_xpath('/html/body/form/main/fieldset/div/div[1]/label').first.click()\n",
    "browser.find_by_id('accept').first.click()"
   ]
  },
  {
   "cell_type": "code",
   "execution_count": 12,
   "metadata": {},
   "outputs": [],
   "source": [
    "# Sleep and click Accept Terms.\n",
    "time.sleep(5)\n",
    "browser.find_by_id('accept').first.click()\n",
    "time.sleep(5)"
   ]
  },
  {
   "cell_type": "code",
   "execution_count": 13,
   "metadata": {},
   "outputs": [],
   "source": [
    "new_url = browser.url\n",
    "parse_url = urllib.parse.unquote(new_url.split('code=')[1])\n",
    "browser.quit()"
   ]
  },
  {
   "cell_type": "code",
   "execution_count": 14,
   "metadata": {},
   "outputs": [],
   "source": [
    "# THE AUTHENTICATION ENDPOINT\n",
    "\n",
    "# define the endpoint\n",
    "url = r\"https://api.tdameritrade.com/v1/oauth2/token\"\n",
    "\n",
    "# define the headers\n",
    "headers = {\"Content-Type\":\"application/x-www-form-urlencoded\"}\n",
    "\n",
    "# define the payload\n",
    "payload = {'grant_type': 'authorization_code', \n",
    "           'access_type': 'offline', \n",
    "           'code': parse_url, \n",
    "           'client_id': client_id, \n",
    "           'redirect_uri': 'http://127.0.0.1'}\n",
    "\n",
    "# post the data to get the token\n",
    "authReply = requests.post(r'https://api.tdameritrade.com/v1/oauth2/token', headers = headers, data = payload)\n",
    "\n",
    "# convert it to a dictionary\n",
    "decoded_content = authReply.json()                       "
   ]
  },
  {
   "cell_type": "code",
   "execution_count": 15,
   "metadata": {},
   "outputs": [],
   "source": [
    "# grab the access_token\n",
    "access_token = decoded_content['access_token']\n",
    "headers = {'fields': 'fields=positions',\n",
    "           'Authorization': \"Bearer {}\".format(access_token)}"
   ]
  },
  {
   "cell_type": "code",
   "execution_count": 16,
   "metadata": {},
   "outputs": [],
   "source": [
    "# ACCOUNT ENDPOINT\n",
    "\n",
    "# define an endpoint with a stock of your choice, MUST BE UPPER\n",
    "endpoint = r\"https://api.tdameritrade.com/v1/accounts/{}\".format('497083264')\n",
    "\n",
    "# define the payload\n",
    "#payload = {'apikey': api_key}\n",
    "\n",
    "# make a request\n",
    "content = requests.get(url = endpoint, headers = headers)\n",
    "\n",
    "# convert it dictionary object\n",
    "data = content.json()"
   ]
  },
  {
   "cell_type": "code",
   "execution_count": 17,
   "metadata": {},
   "outputs": [],
   "source": [
    "cashAvail = data['securitiesAccount']['initialBalances']['cashAvailableForTrading']"
   ]
  },
  {
   "cell_type": "code",
   "execution_count": 18,
   "metadata": {},
   "outputs": [],
   "source": [
    "acctValue = data['securitiesAccount']['initialBalances']['accountValue']"
   ]
  },
  {
   "cell_type": "code",
   "execution_count": 19,
   "metadata": {},
   "outputs": [],
   "source": [
    "assetValue = data['securitiesAccount']['initialBalances']['longStockValue']"
   ]
  },
  {
   "cell_type": "code",
   "execution_count": 20,
   "metadata": {},
   "outputs": [],
   "source": [
    "tdValues = {'Date': date.today(),\n",
    "            'TD_Cash': cashAvail,\n",
    "            'TD_AccountValue': acctValue,\n",
    "            'TD_Asset Value': assetValue}\n",
    "\n",
    "tdValues = pd.DataFrame.from_dict(tdValues, orient = 'index').T\n",
    "tdValues.set_index('Date', inplace = True)"
   ]
  }
 ],
 "metadata": {
  "kernelspec": {
   "display_name": "Python 3",
   "language": "python",
   "name": "python3"
  },
  "language_info": {
   "codemirror_mode": {
    "name": "ipython",
    "version": 3
   },
   "file_extension": ".py",
   "mimetype": "text/x-python",
   "name": "python",
   "nbconvert_exporter": "python",
   "pygments_lexer": "ipython3",
   "version": "3.7.4"
  }
 },
 "nbformat": 4,
 "nbformat_minor": 4
}
